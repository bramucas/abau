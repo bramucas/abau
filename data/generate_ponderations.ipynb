{
 "cells": [
  {
   "cell_type": "code",
   "execution_count": 37,
   "metadata": {},
   "outputs": [],
   "source": [
    "import pandas as pd\n",
    "import numpy as np"
   ]
  },
  {
   "cell_type": "code",
   "execution_count": 38,
   "metadata": {},
   "outputs": [],
   "source": [
    "DATA_DIR = 'docs'\n",
    "OUT_DIR = '../abau_proj/asp_data'"
   ]
  },
  {
   "cell_type": "markdown",
   "metadata": {},
   "source": [
    "#### Loading (and standarizing data)"
   ]
  },
  {
   "cell_type": "code",
   "execution_count": 39,
   "metadata": {},
   "outputs": [],
   "source": [
    "def load_branch(branch_name):\n",
    "    df = pd.read_csv(f'{DATA_DIR}/{branch_name}.csv')\n",
    "    # Remove 'unnamed' empty columns \n",
    "    empty_cols = [colname for colname in df.columns if 'Unnamed' in colname]\n",
    "    df.drop(columns=empty_cols, inplace=True)\n",
    "    # The symbol '*' means that the ponderation will be removed after some years\n",
    "    # We replace that by its original value\n",
    "    df = df.replace({'\\*': '', '\\,':'.'}, regex=True)\n",
    "    # standardize the columns names (lowercase, remove extra spaces, replace any spaces by '_', remove accents)\n",
    "    df.columns = [c.lower().strip().replace(' ', '_').replace('á','a').replace('é','e').replace('í','i').replace('ó','o').replace('ú','u') for c in df.columns]\n",
    "    # standarize the grao columns in the same way\n",
    "    if 'grao' not in df.columns:\n",
    "        # change dobres_graos_e_abertos by grao in the column name\n",
    "        df.rename(columns={'dobres_graos_e_abertos':'grao'}, inplace=True)\n",
    "    df['grao'] = df['grao'].str.lower().str.strip().replace(' ', '_').replace('á','a').replace('é','e').replace('í','i').replace('ó','o').replace('ú','u')\n",
    "    # Ensure columns are float and round to 1 decimal\n",
    "    for c in df.columns:\n",
    "        if c == 'grao':\n",
    "            continue\n",
    "        df[c] = round(df[c].astype('float32'),1)\n",
    "    return df\n"
   ]
  },
  {
   "cell_type": "code",
   "execution_count": 40,
   "metadata": {},
   "outputs": [
    {
     "data": {
      "text/plain": [
       "['2ª_lingua_estranxeira_ii',\n",
       " 'analise_musical_ii',\n",
       " 'artes_escenicas_ii',\n",
       " 'bioloxia',\n",
       " 'ciencias_xerais',\n",
       " 'coro_e_tecnica_vocal_ii',\n",
       " 'debuxo_artistico_ii',\n",
       " 'debuxo_tecnico_aplicado_as_artes_plasticas_e_ao_deseño',\n",
       " 'debuxo_tecnico_aplicado_as_artes_plasticas_e_ao_deseño_ii',\n",
       " 'debuxo_tecnico_ii',\n",
       " 'deseño',\n",
       " 'empresa_e_deseño_de_modelos_de_negocio',\n",
       " 'fisica',\n",
       " 'fundamentos_artisticos',\n",
       " 'grao',\n",
       " 'grego_ii',\n",
       " 'historia_da_arte',\n",
       " 'historia_da_musica_e_da_danza',\n",
       " 'latin_ii',\n",
       " 'literatura_dramatica',\n",
       " 'matematicas_aplicadas_as_ciencias_sociais_ii',\n",
       " 'matematicas_ii',\n",
       " 'movementos_culturais_e_artisticos',\n",
       " 'quimica',\n",
       " 'tecnicas_de_expresion_grafico-plastica',\n",
       " 'tecnoloxia_e_enxeñaria_ii',\n",
       " 'xeografia',\n",
       " 'xeoloxia_e_ciencias_ambientais']"
      ]
     },
     "execution_count": 40,
     "metadata": {},
     "output_type": "execute_result"
    }
   ],
   "source": [
    "artes_df = load_branch('artes-e-humanidades')\n",
    "ciencias_df = load_branch('ciencias')\n",
    "ciencias_da_saude_df = load_branch('ciencias-da-saúde')\n",
    "ciencias_sociais_df = load_branch('ciencias-xurídicas-e-sociais')\n",
    "enxeñaria_df = load_branch('enxeñaría-e-arquitectura')\n",
    "dobres_graos_df = load_branch('simultaneidades-dobres-graos-e-graos-abertos')\n",
    "\n",
    "# (Manually) Check if there is not wrong duplicates in the names of the columns\n",
    "sorted(set(list(ciencias_df.columns) + list(artes_df.columns) + list(ciencias_da_saude_df.columns) + list(ciencias_sociais_df.columns) + list(enxeñaria_df.columns) + list(dobres_graos_df)))"
   ]
  },
  {
   "cell_type": "code",
   "execution_count": 41,
   "metadata": {},
   "outputs": [],
   "source": [
    "## Merge all the dataframes\n",
    "_df = pd.concat([\n",
    "    artes_df,\n",
    "    ciencias_df,\n",
    "    ciencias_da_saude_df,\n",
    "    ciencias_sociais_df,\n",
    "    enxeñaria_df,\n",
    "    dobres_graos_df,\n",
    "]).replace(np.nan, 0)\n",
    "\n",
    "# Handle accents in grao column\n",
    "_df['grao'] = _df['grao'].str.replace('á','a')\n",
    "_df['grao'] = _df['grao'].str.replace('é','e')\n",
    "_df['grao'] = _df['grao'].str.replace('í','i')\n",
    "_df['grao'] = _df['grao'].str.replace('ó','o')\n",
    "_df['grao'] = _df['grao'].str.replace('ú','u')\n",
    "\n",
    "_df.to_excel('docs/ponderacións_standarizados.xlsx', index=False)"
   ]
  },
  {
   "cell_type": "markdown",
   "metadata": {},
   "source": [
    "#### Encoding data as ASP facts"
   ]
  },
  {
   "cell_type": "code",
   "execution_count": 42,
   "metadata": {},
   "outputs": [],
   "source": [
    "## All degrees\n",
    "with open(f'{OUT_DIR}/degrees.lp', 'w') as f:\n",
    "    for subject in _df['grao'].unique():\n",
    "        f.write(f'degree(\"{subject}\").\\n')"
   ]
  },
  {
   "cell_type": "code",
   "execution_count": 43,
   "metadata": {},
   "outputs": [],
   "source": [
    "## All subjects\n",
    "with open(f'{OUT_DIR}/subjects.lp', 'w') as f:\n",
    "    for subject in _df.columns:\n",
    "        f.write(f'subject(\"{subject}\").\\n')"
   ]
  },
  {
   "cell_type": "code",
   "execution_count": 44,
   "metadata": {},
   "outputs": [],
   "source": [
    "# All weights\n",
    "with open(f'{OUT_DIR}/weights.lp', 'w') as f:\n",
    "    for i, row in _df.iterrows():\n",
    "        for subject in _df.columns:\n",
    "            if subject == 'grao':\n",
    "                continue\n",
    "            f.write(f'weight(\"{row[\"grao\"]}\", \"{subject}\", {int(row[subject]*10)}).\\n')"
   ]
  }
 ],
 "metadata": {
  "kernelspec": {
   "display_name": "Python 3",
   "language": "python",
   "name": "python3"
  },
  "language_info": {
   "codemirror_mode": {
    "name": "ipython",
    "version": 3
   },
   "file_extension": ".py",
   "mimetype": "text/x-python",
   "name": "python",
   "nbconvert_exporter": "python",
   "pygments_lexer": "ipython3",
   "version": "3.10.12"
  }
 },
 "nbformat": 4,
 "nbformat_minor": 2
}
